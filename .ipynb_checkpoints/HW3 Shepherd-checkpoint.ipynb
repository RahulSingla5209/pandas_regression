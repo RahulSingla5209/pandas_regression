{
 "cells": [
  {
   "cell_type": "code",
   "execution_count": 6,
   "metadata": {},
   "outputs": [
    {
     "name": "stdout",
     "output_type": "stream",
     "text": [
      "Populating the interactive namespace from numpy and matplotlib\n"
     ]
    }
   ],
   "source": [
    "from pandas import Series, DataFrame\n",
    "import matplotlib.pyplot as plt\n",
    "import pandas as pd\n",
    "import statsmodels.api as sm\n",
    "from patsy import dmatrices\n",
    "%pylab inline"
   ]
  },
  {
   "cell_type": "markdown",
   "metadata": {},
   "source": [
    "### [Q1 10 points] Read in data"
   ]
  },
  {
   "cell_type": "code",
   "execution_count": 7,
   "metadata": {},
   "outputs": [],
   "source": [
    "gold = pd.read_csv('gold.txt', sep='\\t', names=['url', 'category'])\n",
    "label = pd.read_csv('labels.txt', sep='\\t', names=['turk', 'url', 'category'])"
   ]
  },
  {
   "cell_type": "markdown",
   "metadata": {},
   "source": [
    "### [Q2 10 points] Split into two DataFrames"
   ]
  },
  {
   "cell_type": "code",
   "execution_count": 8,
   "metadata": {},
   "outputs": [],
   "source": [
    "mask = label['url'].isin(gold['url'])\n",
    "labels_on_gold = label[mask]\n",
    "labels_unknown = label[-mask]"
   ]
  },
  {
   "cell_type": "markdown",
   "metadata": {},
   "source": [
    "### [Q3 10 points] Compute accuracies of turks"
   ]
  },
  {
   "cell_type": "code",
   "execution_count": 9,
   "metadata": {},
   "outputs": [
    {
     "data": {
      "text/html": [
       "<div>\n",
       "<style scoped>\n",
       "    .dataframe tbody tr th:only-of-type {\n",
       "        vertical-align: middle;\n",
       "    }\n",
       "\n",
       "    .dataframe tbody tr th {\n",
       "        vertical-align: top;\n",
       "    }\n",
       "\n",
       "    .dataframe thead th {\n",
       "        text-align: right;\n",
       "    }\n",
       "</style>\n",
       "<table border=\"1\" class=\"dataframe\">\n",
       "  <thead>\n",
       "    <tr style=\"text-align: right;\">\n",
       "      <th></th>\n",
       "      <th>mean</th>\n",
       "      <th>count</th>\n",
       "    </tr>\n",
       "    <tr>\n",
       "      <th>turk</th>\n",
       "      <th></th>\n",
       "      <th></th>\n",
       "    </tr>\n",
       "  </thead>\n",
       "  <tbody>\n",
       "    <tr>\n",
       "      <th>A112DVP1KG4QZU</th>\n",
       "      <td>1.000000</td>\n",
       "      <td>1</td>\n",
       "    </tr>\n",
       "    <tr>\n",
       "      <th>A1253FXHCZ9CWM</th>\n",
       "      <td>0.517241</td>\n",
       "      <td>29</td>\n",
       "    </tr>\n",
       "    <tr>\n",
       "      <th>A12CY1Q7XKJJDE</th>\n",
       "      <td>1.000000</td>\n",
       "      <td>1</td>\n",
       "    </tr>\n",
       "    <tr>\n",
       "      <th>A12RE8G66WTO8B</th>\n",
       "      <td>0.750000</td>\n",
       "      <td>20</td>\n",
       "    </tr>\n",
       "    <tr>\n",
       "      <th>A12Y1GTGIQDGRA</th>\n",
       "      <td>0.333333</td>\n",
       "      <td>3</td>\n",
       "    </tr>\n",
       "    <tr>\n",
       "      <th>A13CEW9JGDWGX1</th>\n",
       "      <td>1.000000</td>\n",
       "      <td>1</td>\n",
       "    </tr>\n",
       "    <tr>\n",
       "      <th>A13OE9GBRJ0S2U</th>\n",
       "      <td>0.750000</td>\n",
       "      <td>4</td>\n",
       "    </tr>\n",
       "    <tr>\n",
       "      <th>A14IQ4GLNWNPOJ</th>\n",
       "      <td>1.000000</td>\n",
       "      <td>1</td>\n",
       "    </tr>\n",
       "    <tr>\n",
       "      <th>A153PKAL7OAY36</th>\n",
       "      <td>0.722973</td>\n",
       "      <td>148</td>\n",
       "    </tr>\n",
       "    <tr>\n",
       "      <th>A1554ZM0CLKSG5</th>\n",
       "      <td>1.000000</td>\n",
       "      <td>1</td>\n",
       "    </tr>\n",
       "  </tbody>\n",
       "</table>\n",
       "</div>"
      ],
      "text/plain": [
       "                    mean  count\n",
       "turk                           \n",
       "A112DVP1KG4QZU  1.000000      1\n",
       "A1253FXHCZ9CWM  0.517241     29\n",
       "A12CY1Q7XKJJDE  1.000000      1\n",
       "A12RE8G66WTO8B  0.750000     20\n",
       "A12Y1GTGIQDGRA  0.333333      3\n",
       "A13CEW9JGDWGX1  1.000000      1\n",
       "A13OE9GBRJ0S2U  0.750000      4\n",
       "A14IQ4GLNWNPOJ  1.000000      1\n",
       "A153PKAL7OAY36  0.722973    148\n",
       "A1554ZM0CLKSG5  1.000000      1"
      ]
     },
     "execution_count": 9,
     "metadata": {},
     "output_type": "execute_result"
    }
   ],
   "source": [
    "all_rate = labels_on_gold.merge(gold, left_on = 'url', right_on = 'url', suffixes = ['_lab', '_gold'])\n",
    "all_rate['correct'] = all_rate['category_lab'] == all_rate['category_gold']\n",
    "rater_goodness = all_rate.groupby('turk')['correct'].agg(['mean', 'count'])\n",
    "rater_goodness.iloc[:10]"
   ]
  },
  {
   "cell_type": "markdown",
   "metadata": {},
   "source": [
    "### [Q4 10 points] Odds ratios\n",
    "If someone is correct p fraction of the time, the odds of success are defined\n",
    "as:\n",
    "Attach a column called odds to the rater goodness DataFrame, using the\n",
    "average correctness of the turk as his or her p."
   ]
  },
  {
   "cell_type": "code",
   "execution_count": 10,
   "metadata": {},
   "outputs": [
    {
     "data": {
      "text/html": [
       "<div>\n",
       "<style scoped>\n",
       "    .dataframe tbody tr th:only-of-type {\n",
       "        vertical-align: middle;\n",
       "    }\n",
       "\n",
       "    .dataframe tbody tr th {\n",
       "        vertical-align: top;\n",
       "    }\n",
       "\n",
       "    .dataframe thead th {\n",
       "        text-align: right;\n",
       "    }\n",
       "</style>\n",
       "<table border=\"1\" class=\"dataframe\">\n",
       "  <thead>\n",
       "    <tr style=\"text-align: right;\">\n",
       "      <th></th>\n",
       "      <th>mean</th>\n",
       "      <th>count</th>\n",
       "      <th>odds</th>\n",
       "    </tr>\n",
       "    <tr>\n",
       "      <th>turk</th>\n",
       "      <th></th>\n",
       "      <th></th>\n",
       "      <th></th>\n",
       "    </tr>\n",
       "  </thead>\n",
       "  <tbody>\n",
       "    <tr>\n",
       "      <th>A112DVP1KG4QZU</th>\n",
       "      <td>1.000000</td>\n",
       "      <td>1</td>\n",
       "      <td>1000.000000</td>\n",
       "    </tr>\n",
       "    <tr>\n",
       "      <th>A1253FXHCZ9CWM</th>\n",
       "      <td>0.517241</td>\n",
       "      <td>29</td>\n",
       "      <td>1.069214</td>\n",
       "    </tr>\n",
       "    <tr>\n",
       "      <th>A12CY1Q7XKJJDE</th>\n",
       "      <td>1.000000</td>\n",
       "      <td>1</td>\n",
       "      <td>1000.000000</td>\n",
       "    </tr>\n",
       "    <tr>\n",
       "      <th>A12RE8G66WTO8B</th>\n",
       "      <td>0.750000</td>\n",
       "      <td>20</td>\n",
       "      <td>2.988048</td>\n",
       "    </tr>\n",
       "    <tr>\n",
       "      <th>A12Y1GTGIQDGRA</th>\n",
       "      <td>0.333333</td>\n",
       "      <td>3</td>\n",
       "      <td>0.499251</td>\n",
       "    </tr>\n",
       "    <tr>\n",
       "      <th>A13CEW9JGDWGX1</th>\n",
       "      <td>1.000000</td>\n",
       "      <td>1</td>\n",
       "      <td>1000.000000</td>\n",
       "    </tr>\n",
       "    <tr>\n",
       "      <th>A13OE9GBRJ0S2U</th>\n",
       "      <td>0.750000</td>\n",
       "      <td>4</td>\n",
       "      <td>2.988048</td>\n",
       "    </tr>\n",
       "    <tr>\n",
       "      <th>A14IQ4GLNWNPOJ</th>\n",
       "      <td>1.000000</td>\n",
       "      <td>1</td>\n",
       "      <td>1000.000000</td>\n",
       "    </tr>\n",
       "    <tr>\n",
       "      <th>A153PKAL7OAY36</th>\n",
       "      <td>0.722973</td>\n",
       "      <td>148</td>\n",
       "      <td>2.600369</td>\n",
       "    </tr>\n",
       "    <tr>\n",
       "      <th>A1554ZM0CLKSG5</th>\n",
       "      <td>1.000000</td>\n",
       "      <td>1</td>\n",
       "      <td>1000.000000</td>\n",
       "    </tr>\n",
       "  </tbody>\n",
       "</table>\n",
       "</div>"
      ],
      "text/plain": [
       "                    mean  count         odds\n",
       "turk                                        \n",
       "A112DVP1KG4QZU  1.000000      1  1000.000000\n",
       "A1253FXHCZ9CWM  0.517241     29     1.069214\n",
       "A12CY1Q7XKJJDE  1.000000      1  1000.000000\n",
       "A12RE8G66WTO8B  0.750000     20     2.988048\n",
       "A12Y1GTGIQDGRA  0.333333      3     0.499251\n",
       "A13CEW9JGDWGX1  1.000000      1  1000.000000\n",
       "A13OE9GBRJ0S2U  0.750000      4     2.988048\n",
       "A14IQ4GLNWNPOJ  1.000000      1  1000.000000\n",
       "A153PKAL7OAY36  0.722973    148     2.600369\n",
       "A1554ZM0CLKSG5  1.000000      1  1000.000000"
      ]
     },
     "execution_count": 10,
     "metadata": {},
     "output_type": "execute_result"
    }
   ],
   "source": [
    "rater_goodness['odds'] = rater_goodness['mean'] / (1.001 - rater_goodness['mean'])\n",
    "rater_goodness.iloc[:10]"
   ]
  },
  {
   "cell_type": "markdown",
   "metadata": {},
   "source": [
    "### [Q5 10 points] Most accurate turks"
   ]
  },
  {
   "cell_type": "code",
   "execution_count": 11,
   "metadata": {},
   "outputs": [
    {
     "data": {
      "text/html": [
       "<div>\n",
       "<style scoped>\n",
       "    .dataframe tbody tr th:only-of-type {\n",
       "        vertical-align: middle;\n",
       "    }\n",
       "\n",
       "    .dataframe tbody tr th {\n",
       "        vertical-align: top;\n",
       "    }\n",
       "\n",
       "    .dataframe thead th {\n",
       "        text-align: right;\n",
       "    }\n",
       "</style>\n",
       "<table border=\"1\" class=\"dataframe\">\n",
       "  <thead>\n",
       "    <tr style=\"text-align: right;\">\n",
       "      <th></th>\n",
       "      <th>mean</th>\n",
       "      <th>count</th>\n",
       "      <th>odds</th>\n",
       "    </tr>\n",
       "    <tr>\n",
       "      <th>turk</th>\n",
       "      <th></th>\n",
       "      <th></th>\n",
       "      <th></th>\n",
       "    </tr>\n",
       "  </thead>\n",
       "  <tbody>\n",
       "    <tr>\n",
       "      <th>A2U0R4X38GUKZE</th>\n",
       "      <td>0.950000</td>\n",
       "      <td>20</td>\n",
       "      <td>18.627451</td>\n",
       "    </tr>\n",
       "    <tr>\n",
       "      <th>A22C0PJUBFJTI0</th>\n",
       "      <td>0.916667</td>\n",
       "      <td>36</td>\n",
       "      <td>10.869565</td>\n",
       "    </tr>\n",
       "    <tr>\n",
       "      <th>A23YQUBXZPKILZ</th>\n",
       "      <td>0.875000</td>\n",
       "      <td>24</td>\n",
       "      <td>6.944444</td>\n",
       "    </tr>\n",
       "    <tr>\n",
       "      <th>ATVALOQVDCMZW</th>\n",
       "      <td>0.854369</td>\n",
       "      <td>103</td>\n",
       "      <td>5.826657</td>\n",
       "    </tr>\n",
       "    <tr>\n",
       "      <th>A1HIXWH4OXT8S4</th>\n",
       "      <td>0.825000</td>\n",
       "      <td>40</td>\n",
       "      <td>4.687500</td>\n",
       "    </tr>\n",
       "    <tr>\n",
       "      <th>A3220HG1O83HQ4</th>\n",
       "      <td>0.818182</td>\n",
       "      <td>22</td>\n",
       "      <td>4.475385</td>\n",
       "    </tr>\n",
       "    <tr>\n",
       "      <th>A32W20KGQXS0LL</th>\n",
       "      <td>0.800000</td>\n",
       "      <td>25</td>\n",
       "      <td>3.980100</td>\n",
       "    </tr>\n",
       "    <tr>\n",
       "      <th>A20PWAB7G3HDHU</th>\n",
       "      <td>0.800000</td>\n",
       "      <td>20</td>\n",
       "      <td>3.980100</td>\n",
       "    </tr>\n",
       "    <tr>\n",
       "      <th>AJSJVK40F5HM6</th>\n",
       "      <td>0.785714</td>\n",
       "      <td>28</td>\n",
       "      <td>3.649635</td>\n",
       "    </tr>\n",
       "    <tr>\n",
       "      <th>A31OCN4MNHUQ6W</th>\n",
       "      <td>0.777174</td>\n",
       "      <td>184</td>\n",
       "      <td>3.472222</td>\n",
       "    </tr>\n",
       "  </tbody>\n",
       "</table>\n",
       "</div>"
      ],
      "text/plain": [
       "                    mean  count       odds\n",
       "turk                                      \n",
       "A2U0R4X38GUKZE  0.950000     20  18.627451\n",
       "A22C0PJUBFJTI0  0.916667     36  10.869565\n",
       "A23YQUBXZPKILZ  0.875000     24   6.944444\n",
       "ATVALOQVDCMZW   0.854369    103   5.826657\n",
       "A1HIXWH4OXT8S4  0.825000     40   4.687500\n",
       "A3220HG1O83HQ4  0.818182     22   4.475385\n",
       "A32W20KGQXS0LL  0.800000     25   3.980100\n",
       "A20PWAB7G3HDHU  0.800000     20   3.980100\n",
       "AJSJVK40F5HM6   0.785714     28   3.649635\n",
       "A31OCN4MNHUQ6W  0.777174    184   3.472222"
      ]
     },
     "execution_count": 11,
     "metadata": {},
     "output_type": "execute_result"
    }
   ],
   "source": [
    "mask = rater_goodness['count'] >= 20\n",
    "rater_goodness[mask].sort_values(by = 'mean', ascending = False).iloc[:10]"
   ]
  },
  {
   "cell_type": "markdown",
   "metadata": {},
   "source": [
    "### [Q6 10 points] Rating counts versus accuracy"
   ]
  },
  {
   "cell_type": "code",
   "execution_count": 12,
   "metadata": {},
   "outputs": [
    {
     "data": {
      "text/html": [
       "<table class=\"simpletable\">\n",
       "<caption>OLS Regression Results</caption>\n",
       "<tr>\n",
       "  <th>Dep. Variable:</th>          <td>mean</td>       <th>  R-squared:         </th> <td>   0.002</td>\n",
       "</tr>\n",
       "<tr>\n",
       "  <th>Model:</th>                   <td>OLS</td>       <th>  Adj. R-squared:    </th> <td>  -0.002</td>\n",
       "</tr>\n",
       "<tr>\n",
       "  <th>Method:</th>             <td>Least Squares</td>  <th>  F-statistic:       </th> <td>  0.5488</td>\n",
       "</tr>\n",
       "<tr>\n",
       "  <th>Date:</th>             <td>Tue, 03 Aug 2021</td> <th>  Prob (F-statistic):</th>  <td> 0.459</td> \n",
       "</tr>\n",
       "<tr>\n",
       "  <th>Time:</th>                 <td>09:43:54</td>     <th>  Log-Likelihood:    </th> <td> -94.663</td>\n",
       "</tr>\n",
       "<tr>\n",
       "  <th>No. Observations:</th>      <td>   269</td>      <th>  AIC:               </th> <td>   193.3</td>\n",
       "</tr>\n",
       "<tr>\n",
       "  <th>Df Residuals:</th>          <td>   267</td>      <th>  BIC:               </th> <td>   200.5</td>\n",
       "</tr>\n",
       "<tr>\n",
       "  <th>Df Model:</th>              <td>     1</td>      <th>                     </th>     <td> </td>   \n",
       "</tr>\n",
       "<tr>\n",
       "  <th>Covariance Type:</th>      <td>nonrobust</td>    <th>                     </th>     <td> </td>   \n",
       "</tr>\n",
       "</table>\n",
       "<table class=\"simpletable\">\n",
       "<tr>\n",
       "      <td></td>         <th>coef</th>     <th>std err</th>      <th>t</th>      <th>P>|t|</th>  <th>[0.025</th>    <th>0.975]</th>  \n",
       "</tr>\n",
       "<tr>\n",
       "  <th>Intercept</th> <td>    0.6431</td> <td>    0.024</td> <td>   27.071</td> <td> 0.000</td> <td>    0.596</td> <td>    0.690</td>\n",
       "</tr>\n",
       "<tr>\n",
       "  <th>count</th>     <td>    0.0007</td> <td>    0.001</td> <td>    0.741</td> <td> 0.459</td> <td>   -0.001</td> <td>    0.002</td>\n",
       "</tr>\n",
       "</table>\n",
       "<table class=\"simpletable\">\n",
       "<tr>\n",
       "  <th>Omnibus:</th>       <td>29.253</td> <th>  Durbin-Watson:     </th> <td>   2.072</td>\n",
       "</tr>\n",
       "<tr>\n",
       "  <th>Prob(Omnibus):</th> <td> 0.000</td> <th>  Jarque-Bera (JB):  </th> <td>  28.396</td>\n",
       "</tr>\n",
       "<tr>\n",
       "  <th>Skew:</th>          <td>-0.731</td> <th>  Prob(JB):          </th> <td>6.82e-07</td>\n",
       "</tr>\n",
       "<tr>\n",
       "  <th>Kurtosis:</th>      <td> 2.373</td> <th>  Cond. No.          </th> <td>    30.1</td>\n",
       "</tr>\n",
       "</table><br/><br/>Notes:<br/>[1] Standard Errors assume that the covariance matrix of the errors is correctly specified."
      ],
      "text/plain": [
       "<class 'statsmodels.iolib.summary.Summary'>\n",
       "\"\"\"\n",
       "                            OLS Regression Results                            \n",
       "==============================================================================\n",
       "Dep. Variable:                   mean   R-squared:                       0.002\n",
       "Model:                            OLS   Adj. R-squared:                 -0.002\n",
       "Method:                 Least Squares   F-statistic:                    0.5488\n",
       "Date:                Tue, 03 Aug 2021   Prob (F-statistic):              0.459\n",
       "Time:                        09:43:54   Log-Likelihood:                -94.663\n",
       "No. Observations:                 269   AIC:                             193.3\n",
       "Df Residuals:                     267   BIC:                             200.5\n",
       "Df Model:                           1                                         \n",
       "Covariance Type:            nonrobust                                         \n",
       "==============================================================================\n",
       "                 coef    std err          t      P>|t|      [0.025      0.975]\n",
       "------------------------------------------------------------------------------\n",
       "Intercept      0.6431      0.024     27.071      0.000       0.596       0.690\n",
       "count          0.0007      0.001      0.741      0.459      -0.001       0.002\n",
       "==============================================================================\n",
       "Omnibus:                       29.253   Durbin-Watson:                   2.072\n",
       "Prob(Omnibus):                  0.000   Jarque-Bera (JB):               28.396\n",
       "Skew:                          -0.731   Prob(JB):                     6.82e-07\n",
       "Kurtosis:                       2.373   Cond. No.                         30.1\n",
       "==============================================================================\n",
       "\n",
       "Notes:\n",
       "[1] Standard Errors assume that the covariance matrix of the errors is correctly specified.\n",
       "\"\"\""
      ]
     },
     "execution_count": 12,
     "metadata": {},
     "output_type": "execute_result"
    }
   ],
   "source": [
    "# showing through linear regression\n",
    "y, X = dmatrices('mean ~ count', data = rater_goodness, return_type = 'dataframe')\n",
    "model = sm.OLS(y, X)\n",
    "result = model.fit()\n",
    "result.summary()"
   ]
  },
  {
   "cell_type": "markdown",
   "metadata": {},
   "source": [
    "The number of ratings does not have a significant effect the accuracy of the rating (p > .05)."
   ]
  },
  {
   "cell_type": "code",
   "execution_count": 21,
   "metadata": {},
   "outputs": [
    {
     "data": {
      "text/plain": [
       "<AxesSubplot:title={'center':'Avg label count for turks with different odds/ success rate'}, xlabel='odd_bins'>"
      ]
     },
     "execution_count": 21,
     "metadata": {},
     "output_type": "execute_result"
    },
    {
     "data": {
      "image/png": "[encoded data removed]",
      "text/plain": [
       "<Figure size 432x288 with 1 Axes>"
      ]
     },
     "metadata": {
      "needs_background": "light"
     },
     "output_type": "display_data"
    }
   ],
   "source": [
    "# showing through qcut\n",
    "rater_goodness['odd_bins'] = pd.qcut(rater_goodness['odds'], q = 3)\n",
    "\n",
    "rater_goodness.groupby('odd_bins')['count'].\\\n",
    "                                        mean().\\\n",
    "                                        plot(kind = 'bar',\n",
    "                                            title = \"Avg label count for turks with different odds/ success rate\")"
   ]
  },
  {
   "cell_type": "markdown",
   "metadata": {},
   "source": [
    "Turks with high odds(>9) seems to be rating less than \"typical\" number of urls.\n",
    "<br>Turks with odds with odds between 1.411 and 8.911 seem to be doing the bulk of labelling"
   ]
  },
  {
   "cell_type": "code",
   "execution_count": 23,
   "metadata": {},
   "outputs": [
    {
     "data": {
      "text/plain": [
       "<matplotlib.collections.PathCollection at 0x7fadb10eec90>"
      ]
     },
     "execution_count": 23,
     "metadata": {},
     "output_type": "execute_result"
    },
    {
     "data": {
      "image/png": "[encoded data removed]",
      "text/plain": [
       "<Figure size 432x288 with 1 Axes>"
      ]
     },
     "metadata": {
      "needs_background": "light"
     },
     "output_type": "display_data"
    }
   ],
   "source": [
    "# shown through plots\n",
    "plt.scatter(rater_goodness['count'], rater_goodness['odds'])"
   ]
  },
  {
   "cell_type": "markdown",
   "metadata": {},
   "source": [
    "### [Q7 13 points] Overall predicted odds\n",
    "Consider each url u that is not in the gold set, and each category c. For the pair (u, c), calculate the product of odds of all turks who (a) rated url u as category c, and (b) have rated more gold set urls than 75% of all turks who rated at least one gold-set url.\n",
    "For example, if you find that there are 269 turks who rated at least one gold-set url, you want to select only the turks who have rated more gold-set urls than 75% of these 269 turks. We can think of these as our “reliable” turks. Now, our belief that url u belongs to category c depends on how many “reliable” turks rated u as c; specifically, our belief is based on the product of their reliability scores (i.e., their odds).\n",
    "We shall call such products of odds the overall odds henceforth"
   ]
  },
  {
   "cell_type": "code",
   "execution_count": 8,
   "metadata": {},
   "outputs": [
    {
     "name": "stdout",
     "output_type": "stream",
     "text": [
      "url                          category\n",
      "http://0-101.net             G            2.155963\n",
      "http://000.cc                G            1.460583\n",
      "http://0000.jp               G           14.488244\n",
      "http://000relationships.com  G            5.681060\n",
      "                             P            1.851852\n",
      "                                           ...    \n",
      "http://zynga.com             G            3.704611\n",
      "http://zz868.com             G            1.047852\n",
      "                             P            1.851852\n",
      "http://zzx.cc                G            1.330229\n",
      "                             X            1.620746\n",
      "Name: odds, Length: 13983, dtype: float64\n"
     ]
    }
   ],
   "source": [
    "# get count of ratings from > 75%\n",
    "greater = rater_goodness['count'].quantile(q = .75)\n",
    "\n",
    "# mask if grater than 75%\n",
    "mask1 = rater_goodness['count'] > greater\n",
    "mask2 = rater_goodness[mask1]\n",
    "reliable = labels_unknown[labels_unknown['turk'].isin(mask2.index)]\n",
    "\n",
    "# merge with rater goodness\n",
    "unknown = reliable.merge(rater_goodness, left_on = 'turk', right_on = 'turk')\n",
    "\n",
    "# calculate product of odds\n",
    "print(unknown.groupby(['url', 'category'])['odds'].prod())\n",
    "unknown = pd.pivot_table(unknown, index = \"url\", columns = \"category\", values = \"odds\", aggfunc = \"prod\")"
   ]
  },
  {
   "cell_type": "markdown",
   "metadata": {},
   "source": [
    "### [Q8 13 points] Predicted categories"
   ]
  },
  {
   "cell_type": "code",
   "execution_count": 9,
   "metadata": {},
   "outputs": [
    {
     "data": {
      "text/html": [
       "<div>\n",
       "<style scoped>\n",
       "    .dataframe tbody tr th:only-of-type {\n",
       "        vertical-align: middle;\n",
       "    }\n",
       "\n",
       "    .dataframe tbody tr th {\n",
       "        vertical-align: top;\n",
       "    }\n",
       "\n",
       "    .dataframe thead th {\n",
       "        text-align: right;\n",
       "    }\n",
       "</style>\n",
       "<table border=\"1\" class=\"dataframe\">\n",
       "  <thead>\n",
       "    <tr style=\"text-align: right;\">\n",
       "      <th></th>\n",
       "      <th>top category</th>\n",
       "      <th>top odds</th>\n",
       "    </tr>\n",
       "    <tr>\n",
       "      <th>url</th>\n",
       "      <th></th>\n",
       "      <th></th>\n",
       "    </tr>\n",
       "  </thead>\n",
       "  <tbody>\n",
       "    <tr>\n",
       "      <th>http://0-101.net</th>\n",
       "      <td>G</td>\n",
       "      <td>2.155963</td>\n",
       "    </tr>\n",
       "    <tr>\n",
       "      <th>http://000.cc</th>\n",
       "      <td>G</td>\n",
       "      <td>1.460583</td>\n",
       "    </tr>\n",
       "    <tr>\n",
       "      <th>http://0000.jp</th>\n",
       "      <td>G</td>\n",
       "      <td>14.488244</td>\n",
       "    </tr>\n",
       "    <tr>\n",
       "      <th>http://000relationships.com</th>\n",
       "      <td>G</td>\n",
       "      <td>5.681060</td>\n",
       "    </tr>\n",
       "    <tr>\n",
       "      <th>http://000vitamins.com</th>\n",
       "      <td>G</td>\n",
       "      <td>3.784982</td>\n",
       "    </tr>\n",
       "    <tr>\n",
       "      <th>http://000webhost.com</th>\n",
       "      <td>G</td>\n",
       "      <td>11.159502</td>\n",
       "    </tr>\n",
       "    <tr>\n",
       "      <th>http://003my.com</th>\n",
       "      <td>G</td>\n",
       "      <td>4.912040</td>\n",
       "    </tr>\n",
       "    <tr>\n",
       "      <th>http://007absolutehardcore.com/early_cumshots/index.html</th>\n",
       "      <td>X</td>\n",
       "      <td>293.252871</td>\n",
       "    </tr>\n",
       "    <tr>\n",
       "      <th>http://007swz.cn</th>\n",
       "      <td>G</td>\n",
       "      <td>1.393883</td>\n",
       "    </tr>\n",
       "    <tr>\n",
       "      <th>http://01768.com</th>\n",
       "      <td>G</td>\n",
       "      <td>1.393883</td>\n",
       "    </tr>\n",
       "  </tbody>\n",
       "</table>\n",
       "</div>"
      ],
      "text/plain": [
       "                                                   top category    top odds\n",
       "url                                                                        \n",
       "http://0-101.net                                              G    2.155963\n",
       "http://000.cc                                                 G    1.460583\n",
       "http://0000.jp                                                G   14.488244\n",
       "http://000relationships.com                                   G    5.681060\n",
       "http://000vitamins.com                                        G    3.784982\n",
       "http://000webhost.com                                         G   11.159502\n",
       "http://003my.com                                              G    4.912040\n",
       "http://007absolutehardcore.com/early_cumshots/i...            X  293.252871\n",
       "http://007swz.cn                                              G    1.393883\n",
       "http://01768.com                                              G    1.393883"
      ]
     },
     "execution_count": 9,
     "metadata": {},
     "output_type": "execute_result"
    }
   ],
   "source": [
    "result_75 = DataFrame(index = unknown.index)\n",
    "result_75['top category'] = unknown.T.idxmax()\n",
    "result_75['top odds'] = unknown.max(axis = 1)\n",
    "result_75.iloc[:10]"
   ]
  },
  {
   "cell_type": "markdown",
   "metadata": {},
   "source": [
    "### [Q9 14 points] Predicted categories using more turks\n",
    "Questions 7 and 8 above only considered the ratings of turks who had rated enough gold set URLs, so we were relatively more confident about their accuracies. What happens if we loosen this restriction?\n",
    "Repeat the code of Q7 and Q8, but replacing 75% by 25% in the descrip- tion of Q7 (i.e., we also consider turks who have far fewer gold set ratings). Call this result 25.\n",
    "Now let’s see how these two results compare. Create a DataFrame where both the index and the columns are the various categories, and the cells\n",
    "contain the number of urls with these as the top categories according to result 75 and result 25.\n",
    "For example, the cell corresponding to the row category=R and the col- umn category=G would be the number of URLs that were predicted to be R by result 75 but predicted to be G by result 25.\n",
    "Where are the most errors?"
   ]
  },
  {
   "cell_type": "code",
   "execution_count": 24,
   "metadata": {},
   "outputs": [
    {
     "data": {
      "text/html": [
       "<div>\n",
       "<style scoped>\n",
       "    .dataframe tbody tr th:only-of-type {\n",
       "        vertical-align: middle;\n",
       "    }\n",
       "\n",
       "    .dataframe tbody tr th {\n",
       "        vertical-align: top;\n",
       "    }\n",
       "\n",
       "    .dataframe thead th {\n",
       "        text-align: right;\n",
       "    }\n",
       "</style>\n",
       "<table border=\"1\" class=\"dataframe\">\n",
       "  <thead>\n",
       "    <tr style=\"text-align: right;\">\n",
       "      <th>top category_25</th>\n",
       "      <th>G</th>\n",
       "      <th>P</th>\n",
       "      <th>R</th>\n",
       "      <th>X</th>\n",
       "      <th>All</th>\n",
       "    </tr>\n",
       "    <tr>\n",
       "      <th>top category_75</th>\n",
       "      <th></th>\n",
       "      <th></th>\n",
       "      <th></th>\n",
       "      <th></th>\n",
       "      <th></th>\n",
       "    </tr>\n",
       "  </thead>\n",
       "  <tbody>\n",
       "    <tr>\n",
       "      <th>G</th>\n",
       "      <td>8327</td>\n",
       "      <td>574</td>\n",
       "      <td>186</td>\n",
       "      <td>216</td>\n",
       "      <td>9303</td>\n",
       "    </tr>\n",
       "    <tr>\n",
       "      <th>P</th>\n",
       "      <td>189</td>\n",
       "      <td>328</td>\n",
       "      <td>47</td>\n",
       "      <td>19</td>\n",
       "      <td>583</td>\n",
       "    </tr>\n",
       "    <tr>\n",
       "      <th>R</th>\n",
       "      <td>21</td>\n",
       "      <td>34</td>\n",
       "      <td>128</td>\n",
       "      <td>25</td>\n",
       "      <td>208</td>\n",
       "    </tr>\n",
       "    <tr>\n",
       "      <th>X</th>\n",
       "      <td>27</td>\n",
       "      <td>6</td>\n",
       "      <td>26</td>\n",
       "      <td>457</td>\n",
       "      <td>516</td>\n",
       "    </tr>\n",
       "    <tr>\n",
       "      <th>All</th>\n",
       "      <td>8564</td>\n",
       "      <td>942</td>\n",
       "      <td>387</td>\n",
       "      <td>717</td>\n",
       "      <td>10610</td>\n",
       "    </tr>\n",
       "  </tbody>\n",
       "</table>\n",
       "</div>"
      ],
      "text/plain": [
       "top category_25     G    P    R    X    All\n",
       "top category_75                            \n",
       "G                8327  574  186  216   9303\n",
       "P                 189  328   47   19    583\n",
       "R                  21   34  128   25    208\n",
       "X                  27    6   26  457    516\n",
       "All              8564  942  387  717  10610"
      ]
     },
     "execution_count": 24,
     "metadata": {},
     "output_type": "execute_result"
    }
   ],
   "source": [
    "# get count of ratings from > 25%\n",
    "greater = rater_goodness['count'].quantile(q = .25)\n",
    "\n",
    "# mask if grater than 75%\n",
    "mask1 = rater_goodness['count'] > greater\n",
    "mask2 = rater_goodness[mask1]\n",
    "reliable = labels_unknown[labels_unknown['turk'].isin(mask2.index)]\n",
    "\n",
    "# merge with rater goodness\n",
    "unknown = reliable.merge(rater_goodness, left_on = 'turk', right_on = 'turk')\n",
    "\n",
    "# calculate product of odds\n",
    "unknown = pd.pivot_table(unknown, index = \"url\", columns = \"category\", values = \"odds\", aggfunc = \"prod\")\n",
    "\n",
    "result_25 = DataFrame(index = unknown.index)\n",
    "result_25['top category'] = unknown.T.idxmax()\n",
    "result_25['top odds'] = unknown.max(axis = 1)\n",
    "\n",
    "\n",
    "# join 25 and 75\n",
    "all_cats = result_25.join(result_75, lsuffix = '_25', rsuffix = '_75')\n",
    "\n",
    "# crosstab\n",
    "pd.crosstab(index = all_cats['top category_75'], columns = all_cats['top category_25'], margins = True)"
   ]
  }
 ],
 "metadata": {
  "kernelspec": {
   "display_name": "Python 3",
   "language": "python",
   "name": "python3"
  },
  "language_info": {
   "codemirror_mode": {
    "name": "ipython",
    "version": 3
   },
   "file_extension": ".py",
   "mimetype": "text/x-python",
   "name": "python",
   "nbconvert_exporter": "python",
   "pygments_lexer": "ipython3",
   "version": "3.8.8"
  },
  "varInspector": {
   "cols": {
    "lenName": 16,
    "lenType": 16,
    "lenVar": 40
   },
   "kernels_config": {
    "python": {
     "delete_cmd_postfix": "",
     "delete_cmd_prefix": "del ",
     "library": "var_list.py",
     "varRefreshCmd": "print(var_dic_list())"
    },
    "r": {
     "delete_cmd_postfix": ") ",
     "delete_cmd_prefix": "rm(",
     "library": "var_list.r",
     "varRefreshCmd": "cat(var_dic_list()) "
    }
   },
   "types_to_exclude": [
    "module",
    "function",
    "builtin_function_or_method",
    "instance",
    "_Feature"
   ],
   "window_display": false
  }
 },
 "nbformat": 4,
 "nbformat_minor": 4
}
