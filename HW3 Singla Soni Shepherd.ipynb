{
 "cells": [
  {
   "cell_type": "code",
   "execution_count": 40,
   "id": "ced1333f",
   "metadata": {},
   "outputs": [
    {
     "name": "stdout",
     "output_type": "stream",
     "text": [
      "Populating the interactive namespace from numpy and matplotlib\n"
     ]
    }
   ],
   "source": [
    "import pandas as pd\n",
    "%pylab inline"
   ]
  },
  {
   "cell_type": "markdown",
   "id": "b794a8f3",
   "metadata": {},
   "source": [
    "# Q1 : Read in Data"
   ]
  },
  {
   "cell_type": "code",
   "execution_count": 41,
   "id": "caff3d43",
   "metadata": {},
   "outputs": [],
   "source": [
    "gold = pd.read_csv('gold.txt', sep='\\t', names=['url', 'category'])\n",
    "label = pd.read_csv('labels.txt', sep='\\t', names=['turk', 'url', 'category'])"
   ]
  },
  {
   "cell_type": "code",
   "execution_count": 42,
   "id": "a8c73ebf",
   "metadata": {},
   "outputs": [
    {
     "data": {
      "text/plain": [
       "url         http://0800-horoscope.com\n",
       "category                            G\n",
       "Name: 0, dtype: object"
      ]
     },
     "execution_count": 42,
     "metadata": {},
     "output_type": "execute_result"
    }
   ],
   "source": [
    "gold.loc[0]"
   ]
  },
  {
   "cell_type": "code",
   "execution_count": 43,
   "id": "53c793ef",
   "metadata": {},
   "outputs": [
    {
     "data": {
      "text/plain": [
       "turk        A1OT3A29R9N1DG\n",
       "url          http://000.cc\n",
       "category                 P\n",
       "Name: 0, dtype: object"
      ]
     },
     "execution_count": 43,
     "metadata": {},
     "output_type": "execute_result"
    }
   ],
   "source": [
    "label.loc[0]"
   ]
  },
  {
   "cell_type": "markdown",
   "id": "e778a1f0",
   "metadata": {},
   "source": [
    "# Q2: Split into two DataFrames"
   ]
  },
  {
   "cell_type": "code",
   "execution_count": 44,
   "id": "afa47056",
   "metadata": {},
   "outputs": [],
   "source": [
    "labels_on_gold = label[label['url'].isin(gold['url'])].reset_index(drop = True)\n",
    "labels_unknown = label[~ label['url'].isin(gold['url'])].reset_index(drop = True)"
   ]
  },
  {
   "cell_type": "code",
   "execution_count": 45,
   "id": "94a24891",
   "metadata": {},
   "outputs": [
    {
     "data": {
      "text/html": [
       "<div>\n",
       "<style scoped>\n",
       "    .dataframe tbody tr th:only-of-type {\n",
       "        vertical-align: middle;\n",
       "    }\n",
       "\n",
       "    .dataframe tbody tr th {\n",
       "        vertical-align: top;\n",
       "    }\n",
       "\n",
       "    .dataframe thead th {\n",
       "        text-align: right;\n",
       "    }\n",
       "</style>\n",
       "<table border=\"1\" class=\"dataframe\">\n",
       "  <thead>\n",
       "    <tr style=\"text-align: right;\">\n",
       "      <th></th>\n",
       "      <th>turk</th>\n",
       "      <th>url</th>\n",
       "      <th>category</th>\n",
       "    </tr>\n",
       "  </thead>\n",
       "  <tbody>\n",
       "    <tr>\n",
       "      <th>0</th>\n",
       "      <td>A1OT3A29R9N1DG</td>\n",
       "      <td>http://000.cc</td>\n",
       "      <td>P</td>\n",
       "    </tr>\n",
       "    <tr>\n",
       "      <th>1</th>\n",
       "      <td>A1PXXEOGQ76RNJ</td>\n",
       "      <td>http://000.cc</td>\n",
       "      <td>G</td>\n",
       "    </tr>\n",
       "    <tr>\n",
       "      <th>2</th>\n",
       "      <td>A1PXXEOGQ76RNJ</td>\n",
       "      <td>http://000.cc</td>\n",
       "      <td>G</td>\n",
       "    </tr>\n",
       "    <tr>\n",
       "      <th>3</th>\n",
       "      <td>A21US576U8SCO4</td>\n",
       "      <td>http://000.cc</td>\n",
       "      <td>G</td>\n",
       "    </tr>\n",
       "    <tr>\n",
       "      <th>4</th>\n",
       "      <td>A2LGX47NN7C5D3</td>\n",
       "      <td>http://000.cc</td>\n",
       "      <td>G</td>\n",
       "    </tr>\n",
       "    <tr>\n",
       "      <th>5</th>\n",
       "      <td>A2OVKTB7VNY8EW</td>\n",
       "      <td>http://000.cc</td>\n",
       "      <td>G</td>\n",
       "    </tr>\n",
       "  </tbody>\n",
       "</table>\n",
       "</div>"
      ],
      "text/plain": [
       "             turk            url category\n",
       "0  A1OT3A29R9N1DG  http://000.cc        P\n",
       "1  A1PXXEOGQ76RNJ  http://000.cc        G\n",
       "2  A1PXXEOGQ76RNJ  http://000.cc        G\n",
       "3  A21US576U8SCO4  http://000.cc        G\n",
       "4  A2LGX47NN7C5D3  http://000.cc        G\n",
       "5  A2OVKTB7VNY8EW  http://000.cc        G"
      ]
     },
     "execution_count": 45,
     "metadata": {},
     "output_type": "execute_result"
    }
   ],
   "source": [
    "labels_unknown.loc[:5]"
   ]
  },
  {
   "cell_type": "code",
   "execution_count": 46,
   "id": "b8dfd498",
   "metadata": {},
   "outputs": [
    {
     "data": {
      "text/html": [
       "<div>\n",
       "<style scoped>\n",
       "    .dataframe tbody tr th:only-of-type {\n",
       "        vertical-align: middle;\n",
       "    }\n",
       "\n",
       "    .dataframe tbody tr th {\n",
       "        vertical-align: top;\n",
       "    }\n",
       "\n",
       "    .dataframe thead th {\n",
       "        text-align: right;\n",
       "    }\n",
       "</style>\n",
       "<table border=\"1\" class=\"dataframe\">\n",
       "  <thead>\n",
       "    <tr style=\"text-align: right;\">\n",
       "      <th></th>\n",
       "      <th>turk</th>\n",
       "      <th>url</th>\n",
       "      <th>category</th>\n",
       "    </tr>\n",
       "  </thead>\n",
       "  <tbody>\n",
       "    <tr>\n",
       "      <th>0</th>\n",
       "      <td>A1253FXHCZ9CWM</td>\n",
       "      <td>http://0800-horoscope.com</td>\n",
       "      <td>G</td>\n",
       "    </tr>\n",
       "    <tr>\n",
       "      <th>1</th>\n",
       "      <td>A153PKAL7OAY36</td>\n",
       "      <td>http://0800-horoscope.com</td>\n",
       "      <td>G</td>\n",
       "    </tr>\n",
       "    <tr>\n",
       "      <th>2</th>\n",
       "      <td>A1FV9SAPL5C6KY</td>\n",
       "      <td>http://0800-horoscope.com</td>\n",
       "      <td>G</td>\n",
       "    </tr>\n",
       "    <tr>\n",
       "      <th>3</th>\n",
       "      <td>A1JTOT0DWM6QGL</td>\n",
       "      <td>http://0800-horoscope.com</td>\n",
       "      <td>G</td>\n",
       "    </tr>\n",
       "    <tr>\n",
       "      <th>4</th>\n",
       "      <td>A1PXXEOGQ76RNJ</td>\n",
       "      <td>http://0800-horoscope.com</td>\n",
       "      <td>G</td>\n",
       "    </tr>\n",
       "    <tr>\n",
       "      <th>5</th>\n",
       "      <td>A21US576U8SCO4</td>\n",
       "      <td>http://0800-horoscope.com</td>\n",
       "      <td>G</td>\n",
       "    </tr>\n",
       "  </tbody>\n",
       "</table>\n",
       "</div>"
      ],
      "text/plain": [
       "             turk                        url category\n",
       "0  A1253FXHCZ9CWM  http://0800-horoscope.com        G\n",
       "1  A153PKAL7OAY36  http://0800-horoscope.com        G\n",
       "2  A1FV9SAPL5C6KY  http://0800-horoscope.com        G\n",
       "3  A1JTOT0DWM6QGL  http://0800-horoscope.com        G\n",
       "4  A1PXXEOGQ76RNJ  http://0800-horoscope.com        G\n",
       "5  A21US576U8SCO4  http://0800-horoscope.com        G"
      ]
     },
     "execution_count": 46,
     "metadata": {},
     "output_type": "execute_result"
    }
   ],
   "source": [
    "labels_on_gold.loc[:5]"
   ]
  },
  {
   "cell_type": "markdown",
   "id": "e6a1c88f",
   "metadata": {},
   "source": [
    "# Q3:  Compute accuracies of turks"
   ]
  },
  {
   "cell_type": "code",
   "execution_count": 58,
   "id": "365405d4",
   "metadata": {},
   "outputs": [
    {
     "data": {
      "text/html": [
       "<div>\n",
       "<style scoped>\n",
       "    .dataframe tbody tr th:only-of-type {\n",
       "        vertical-align: middle;\n",
       "    }\n",
       "\n",
       "    .dataframe tbody tr th {\n",
       "        vertical-align: top;\n",
       "    }\n",
       "\n",
       "    .dataframe thead th {\n",
       "        text-align: right;\n",
       "    }\n",
       "</style>\n",
       "<table border=\"1\" class=\"dataframe\">\n",
       "  <thead>\n",
       "    <tr style=\"text-align: right;\">\n",
       "      <th></th>\n",
       "      <th>mean</th>\n",
       "      <th>count</th>\n",
       "    </tr>\n",
       "    <tr>\n",
       "      <th>turk</th>\n",
       "      <th></th>\n",
       "      <th></th>\n",
       "    </tr>\n",
       "  </thead>\n",
       "  <tbody>\n",
       "    <tr>\n",
       "      <th>A112DVP1KG4QZU</th>\n",
       "      <td>1.000000</td>\n",
       "      <td>1</td>\n",
       "    </tr>\n",
       "    <tr>\n",
       "      <th>A1253FXHCZ9CWM</th>\n",
       "      <td>0.517241</td>\n",
       "      <td>29</td>\n",
       "    </tr>\n",
       "    <tr>\n",
       "      <th>A12CY1Q7XKJJDE</th>\n",
       "      <td>1.000000</td>\n",
       "      <td>1</td>\n",
       "    </tr>\n",
       "    <tr>\n",
       "      <th>A12RE8G66WTO8B</th>\n",
       "      <td>0.750000</td>\n",
       "      <td>20</td>\n",
       "    </tr>\n",
       "    <tr>\n",
       "      <th>A12Y1GTGIQDGRA</th>\n",
       "      <td>0.333333</td>\n",
       "      <td>3</td>\n",
       "    </tr>\n",
       "  </tbody>\n",
       "</table>\n",
       "</div>"
      ],
      "text/plain": [
       "                    mean  count\n",
       "turk                           \n",
       "A112DVP1KG4QZU  1.000000      1\n",
       "A1253FXHCZ9CWM  0.517241     29\n",
       "A12CY1Q7XKJJDE  1.000000      1\n",
       "A12RE8G66WTO8B  0.750000     20\n",
       "A12Y1GTGIQDGRA  0.333333      3"
      ]
     },
     "execution_count": 58,
     "metadata": {},
     "output_type": "execute_result"
    }
   ],
   "source": [
    "#create a df that is intersection of gold and lobels on gold df\n",
    "merged_df = labels_on_gold.merge(gold,\n",
    "                                left_on = \"url\",\n",
    "                                right_on = \"url\",\n",
    "                                suffixes = [\"_label\", \"_gold\"])\n",
    "# use category column to check how many correct answers were achieved\n",
    "merged_df['is_label_correct'] = merged_df['category_gold'] == merged_df['category_label']\n",
    "\n",
    "# use groupby to groupby turk. For boolen mean and count can give use required answers\n",
    "rater_goodness = merged_df.groupby('turk')['is_label_correct'].agg(['mean','count'])\n",
    "\n",
    "rater_goodness.head()"
   ]
  },
  {
   "cell_type": "markdown",
   "id": "9ac190ed",
   "metadata": {},
   "source": [
    "# Q4: Odds ratios"
   ]
  },
  {
   "cell_type": "code",
   "execution_count": 60,
   "id": "1323d363",
   "metadata": {},
   "outputs": [
    {
     "data": {
      "text/html": [
       "<div>\n",
       "<style scoped>\n",
       "    .dataframe tbody tr th:only-of-type {\n",
       "        vertical-align: middle;\n",
       "    }\n",
       "\n",
       "    .dataframe tbody tr th {\n",
       "        vertical-align: top;\n",
       "    }\n",
       "\n",
       "    .dataframe thead th {\n",
       "        text-align: right;\n",
       "    }\n",
       "</style>\n",
       "<table border=\"1\" class=\"dataframe\">\n",
       "  <thead>\n",
       "    <tr style=\"text-align: right;\">\n",
       "      <th></th>\n",
       "      <th>mean</th>\n",
       "      <th>count</th>\n",
       "      <th>odds</th>\n",
       "    </tr>\n",
       "    <tr>\n",
       "      <th>turk</th>\n",
       "      <th></th>\n",
       "      <th></th>\n",
       "      <th></th>\n",
       "    </tr>\n",
       "  </thead>\n",
       "  <tbody>\n",
       "    <tr>\n",
       "      <th>A112DVP1KG4QZU</th>\n",
       "      <td>1.000000</td>\n",
       "      <td>1</td>\n",
       "      <td>1000.000000</td>\n",
       "    </tr>\n",
       "    <tr>\n",
       "      <th>A1253FXHCZ9CWM</th>\n",
       "      <td>0.517241</td>\n",
       "      <td>29</td>\n",
       "      <td>1.069214</td>\n",
       "    </tr>\n",
       "    <tr>\n",
       "      <th>A12CY1Q7XKJJDE</th>\n",
       "      <td>1.000000</td>\n",
       "      <td>1</td>\n",
       "      <td>1000.000000</td>\n",
       "    </tr>\n",
       "    <tr>\n",
       "      <th>A12RE8G66WTO8B</th>\n",
       "      <td>0.750000</td>\n",
       "      <td>20</td>\n",
       "      <td>2.988048</td>\n",
       "    </tr>\n",
       "    <tr>\n",
       "      <th>A12Y1GTGIQDGRA</th>\n",
       "      <td>0.333333</td>\n",
       "      <td>3</td>\n",
       "      <td>0.499251</td>\n",
       "    </tr>\n",
       "  </tbody>\n",
       "</table>\n",
       "</div>"
      ],
      "text/plain": [
       "                    mean  count         odds\n",
       "turk                                        \n",
       "A112DVP1KG4QZU  1.000000      1  1000.000000\n",
       "A1253FXHCZ9CWM  0.517241     29     1.069214\n",
       "A12CY1Q7XKJJDE  1.000000      1  1000.000000\n",
       "A12RE8G66WTO8B  0.750000     20     2.988048\n",
       "A12Y1GTGIQDGRA  0.333333      3     0.499251"
      ]
     },
     "execution_count": 60,
     "metadata": {},
     "output_type": "execute_result"
    }
   ],
   "source": [
    "rater_goodness['odds'] = rater_goodness['mean'] / (1.001 - rater_goodness['mean'])\n",
    "\n",
    "rater_goodness.head()"
   ]
  },
  {
   "cell_type": "markdown",
   "id": "0005bc76",
   "metadata": {},
   "source": [
    "# Q5:  Most accurate turks"
   ]
  },
  {
   "cell_type": "code",
   "execution_count": 62,
   "id": "0460382e",
   "metadata": {},
   "outputs": [
    {
     "data": {
      "text/html": [
       "<div>\n",
       "<style scoped>\n",
       "    .dataframe tbody tr th:only-of-type {\n",
       "        vertical-align: middle;\n",
       "    }\n",
       "\n",
       "    .dataframe tbody tr th {\n",
       "        vertical-align: top;\n",
       "    }\n",
       "\n",
       "    .dataframe thead th {\n",
       "        text-align: right;\n",
       "    }\n",
       "</style>\n",
       "<table border=\"1\" class=\"dataframe\">\n",
       "  <thead>\n",
       "    <tr style=\"text-align: right;\">\n",
       "      <th></th>\n",
       "      <th>mean</th>\n",
       "      <th>count</th>\n",
       "      <th>odds</th>\n",
       "    </tr>\n",
       "    <tr>\n",
       "      <th>turk</th>\n",
       "      <th></th>\n",
       "      <th></th>\n",
       "      <th></th>\n",
       "    </tr>\n",
       "  </thead>\n",
       "  <tbody>\n",
       "    <tr>\n",
       "      <th>A112DVP1KG4QZU</th>\n",
       "      <td>1.0</td>\n",
       "      <td>1</td>\n",
       "      <td>1000.0</td>\n",
       "    </tr>\n",
       "    <tr>\n",
       "      <th>A24ULCUOSCOJXC</th>\n",
       "      <td>1.0</td>\n",
       "      <td>1</td>\n",
       "      <td>1000.0</td>\n",
       "    </tr>\n",
       "    <tr>\n",
       "      <th>A3BH9WUYDK3LTT</th>\n",
       "      <td>1.0</td>\n",
       "      <td>2</td>\n",
       "      <td>1000.0</td>\n",
       "    </tr>\n",
       "    <tr>\n",
       "      <th>A3AY01XG3S0N6G</th>\n",
       "      <td>1.0</td>\n",
       "      <td>3</td>\n",
       "      <td>1000.0</td>\n",
       "    </tr>\n",
       "    <tr>\n",
       "      <th>A3A3J87AG178Z</th>\n",
       "      <td>1.0</td>\n",
       "      <td>2</td>\n",
       "      <td>1000.0</td>\n",
       "    </tr>\n",
       "    <tr>\n",
       "      <th>A39VY8MOYLYENC</th>\n",
       "      <td>1.0</td>\n",
       "      <td>1</td>\n",
       "      <td>1000.0</td>\n",
       "    </tr>\n",
       "    <tr>\n",
       "      <th>A39MWGZ6R4VKZ2</th>\n",
       "      <td>1.0</td>\n",
       "      <td>1</td>\n",
       "      <td>1000.0</td>\n",
       "    </tr>\n",
       "    <tr>\n",
       "      <th>A397RDM7QLZEG1</th>\n",
       "      <td>1.0</td>\n",
       "      <td>2</td>\n",
       "      <td>1000.0</td>\n",
       "    </tr>\n",
       "    <tr>\n",
       "      <th>A37FYSR72FJ5HV</th>\n",
       "      <td>1.0</td>\n",
       "      <td>1</td>\n",
       "      <td>1000.0</td>\n",
       "    </tr>\n",
       "    <tr>\n",
       "      <th>A361QEE8R11VE1</th>\n",
       "      <td>1.0</td>\n",
       "      <td>4</td>\n",
       "      <td>1000.0</td>\n",
       "    </tr>\n",
       "  </tbody>\n",
       "</table>\n",
       "</div>"
      ],
      "text/plain": [
       "                mean  count    odds\n",
       "turk                               \n",
       "A112DVP1KG4QZU   1.0      1  1000.0\n",
       "A24ULCUOSCOJXC   1.0      1  1000.0\n",
       "A3BH9WUYDK3LTT   1.0      2  1000.0\n",
       "A3AY01XG3S0N6G   1.0      3  1000.0\n",
       "A3A3J87AG178Z    1.0      2  1000.0\n",
       "A39VY8MOYLYENC   1.0      1  1000.0\n",
       "A39MWGZ6R4VKZ2   1.0      1  1000.0\n",
       "A397RDM7QLZEG1   1.0      2  1000.0\n",
       "A37FYSR72FJ5HV   1.0      1  1000.0\n",
       "A361QEE8R11VE1   1.0      4  1000.0"
      ]
     },
     "execution_count": 62,
     "metadata": {},
     "output_type": "execute_result"
    }
   ],
   "source": [
    "rater_goodness.sort_values(by=\"odds\", ascending = False)[:10]"
   ]
  },
  {
   "cell_type": "markdown",
   "id": "dc52499d",
   "metadata": {},
   "source": [
    "# Q6: Rating counts versus accuracy"
   ]
  },
  {
   "cell_type": "code",
   "execution_count": 77,
   "id": "ea8ab39a",
   "metadata": {},
   "outputs": [
    {
     "data": {
      "text/plain": [
       "level\n",
       "low        7.833333\n",
       "medium    26.230769\n",
       "high       2.636364\n",
       "Name: count, dtype: float64"
      ]
     },
     "execution_count": 77,
     "metadata": {},
     "output_type": "execute_result"
    }
   ],
   "source": [
    "rater_goodness['level'] = pd.qcut(rater_goodness['odds'], q = 3, labels=['low', 'medium', 'high'])\n",
    "\n",
    "rater_goodness.groupby('level')['count'].mean()"
   ]
  },
  {
   "cell_type": "markdown",
   "id": "913a6099",
   "metadata": {},
   "source": [
    "# Q7: Overall predicted odds"
   ]
  },
  {
   "cell_type": "code",
   "execution_count": 140,
   "id": "fc9dec0e",
   "metadata": {},
   "outputs": [
    {
     "data": {
      "text/plain": [
       "url                          category\n",
       "http://0-101.net             G           1.330229\n",
       "http://000.cc                G           1.330229\n",
       "                             P           1.000000\n",
       "http://0000.jp               G           2.779429\n",
       "http://000relationships.com  G           1.460583\n",
       "                                           ...   \n",
       "http://zz868.com             G           1.047852\n",
       "                             P           1.000000\n",
       "http://zzx.cc                G           1.000000\n",
       "                             P           1.000000\n",
       "                             X           1.000000\n",
       "Length: 19116, dtype: float64"
      ]
     },
     "execution_count": 140,
     "metadata": {},
     "output_type": "execute_result"
    }
   ],
   "source": [
    "label_unknown_rating = labels_unknown.merge(\n",
    "                                rater_goodness,\n",
    "                                how='left',\n",
    "                                left_on='turk',\n",
    "                                right_on='turk',\n",
    "                                suffixes=['_label', '_rater'])\n",
    "\n",
    "\n",
    "\n",
    "def mul_top_qualite(df, quantile):\n",
    "    threshold = df['count'].quantile(quantile)\n",
    "    return df[df['count'] > threshold]['odds'].product()\n",
    "\n",
    "url_category_conf = label_unknown_rating.groupby(['url', 'category'])[['count', 'odds']].apply(mul_top_qualite, 0.75)\n",
    "url_category_conf"
   ]
  },
  {
   "cell_type": "markdown",
   "id": "73f26d67",
   "metadata": {},
   "source": [
    "# Q8: Predicted categories"
   ]
  },
  {
   "cell_type": "code",
   "execution_count": 189,
   "id": "aa16e921",
   "metadata": {},
   "outputs": [],
   "source": [
    "def best_category(df):\n",
    "    best_odd = df['odds'].max()\n",
    "    return df[df['odds'] == best_odd]['category'].iloc[0], best_odd"
   ]
  },
  {
   "cell_type": "code",
   "execution_count": 192,
   "id": "52620eb0",
   "metadata": {},
   "outputs": [],
   "source": [
    "url_category_conf_df = url_category_conf.reset_index()\n",
    "\n",
    "url_category_conf_df.columns = ['url', 'category', 'odds']\n",
    "\n",
    "result_75 = url_category_conf_df.groupby('url')[['category', 'odds']].apply(best_category)\n",
    "\n",
    "result_75 = pd.DataFrame(list(result_75.values), \n",
    "                         index = result_75.index,\n",
    "                         columns = ['best_category', 'best_odds'])"
   ]
  },
  {
   "cell_type": "code",
   "execution_count": 193,
   "id": "81e5fdcd",
   "metadata": {},
   "outputs": [
    {
     "data": {
      "text/html": [
       "<div>\n",
       "<style scoped>\n",
       "    .dataframe tbody tr th:only-of-type {\n",
       "        vertical-align: middle;\n",
       "    }\n",
       "\n",
       "    .dataframe tbody tr th {\n",
       "        vertical-align: top;\n",
       "    }\n",
       "\n",
       "    .dataframe thead th {\n",
       "        text-align: right;\n",
       "    }\n",
       "</style>\n",
       "<table border=\"1\" class=\"dataframe\">\n",
       "  <thead>\n",
       "    <tr style=\"text-align: right;\">\n",
       "      <th></th>\n",
       "      <th>best_category</th>\n",
       "      <th>best_odds</th>\n",
       "    </tr>\n",
       "    <tr>\n",
       "      <th>url</th>\n",
       "      <th></th>\n",
       "      <th></th>\n",
       "    </tr>\n",
       "  </thead>\n",
       "  <tbody>\n",
       "    <tr>\n",
       "      <th>http://0-101.net</th>\n",
       "      <td>G</td>\n",
       "      <td>1.330229</td>\n",
       "    </tr>\n",
       "    <tr>\n",
       "      <th>http://000.cc</th>\n",
       "      <td>G</td>\n",
       "      <td>1.330229</td>\n",
       "    </tr>\n",
       "    <tr>\n",
       "      <th>http://0000.jp</th>\n",
       "      <td>G</td>\n",
       "      <td>2.779429</td>\n",
       "    </tr>\n",
       "    <tr>\n",
       "      <th>http://000relationships.com</th>\n",
       "      <td>G</td>\n",
       "      <td>1.460583</td>\n",
       "    </tr>\n",
       "    <tr>\n",
       "      <th>http://000vitamins.com</th>\n",
       "      <td>G</td>\n",
       "      <td>2.710047</td>\n",
       "    </tr>\n",
       "    <tr>\n",
       "      <th>...</th>\n",
       "      <td>...</td>\n",
       "      <td>...</td>\n",
       "    </tr>\n",
       "    <tr>\n",
       "      <th>http://zwinky.com</th>\n",
       "      <td>G</td>\n",
       "      <td>2.710047</td>\n",
       "    </tr>\n",
       "    <tr>\n",
       "      <th>http://zylom.com</th>\n",
       "      <td>G</td>\n",
       "      <td>1.735526</td>\n",
       "    </tr>\n",
       "    <tr>\n",
       "      <th>http://zynga.com</th>\n",
       "      <td>G</td>\n",
       "      <td>2.652501</td>\n",
       "    </tr>\n",
       "    <tr>\n",
       "      <th>http://zz868.com</th>\n",
       "      <td>G</td>\n",
       "      <td>1.047852</td>\n",
       "    </tr>\n",
       "    <tr>\n",
       "      <th>http://zzx.cc</th>\n",
       "      <td>G</td>\n",
       "      <td>1.000000</td>\n",
       "    </tr>\n",
       "  </tbody>\n",
       "</table>\n",
       "<p>10707 rows × 2 columns</p>\n",
       "</div>"
      ],
      "text/plain": [
       "                            best_category  best_odds\n",
       "url                                                 \n",
       "http://0-101.net                        G   1.330229\n",
       "http://000.cc                           G   1.330229\n",
       "http://0000.jp                          G   2.779429\n",
       "http://000relationships.com             G   1.460583\n",
       "http://000vitamins.com                  G   2.710047\n",
       "...                                   ...        ...\n",
       "http://zwinky.com                       G   2.710047\n",
       "http://zylom.com                        G   1.735526\n",
       "http://zynga.com                        G   2.652501\n",
       "http://zz868.com                        G   1.047852\n",
       "http://zzx.cc                           G   1.000000\n",
       "\n",
       "[10707 rows x 2 columns]"
      ]
     },
     "execution_count": 193,
     "metadata": {},
     "output_type": "execute_result"
    }
   ],
   "source": [
    "result_75"
   ]
  },
  {
   "cell_type": "markdown",
   "id": "21bb437c",
   "metadata": {},
   "source": [
    "# Q9: Predicted categories using more turks"
   ]
  },
  {
   "cell_type": "code",
   "execution_count": 194,
   "id": "93aa16f8",
   "metadata": {},
   "outputs": [],
   "source": [
    "url_category_conf_25 = label_unknown_rating.groupby(['url', 'category'])[['count', 'odds']].apply(mul_top_qualite, 0.25)"
   ]
  },
  {
   "cell_type": "code",
   "execution_count": 195,
   "id": "dd1c4c27",
   "metadata": {},
   "outputs": [],
   "source": [
    "url_category_conf_25 = url_category_conf_25.reset_index()\n",
    "\n",
    "url_category_conf_25.columns = ['url', 'category', 'odds']\n",
    "\n",
    "result_25 = url_category_conf_25.groupby('url')[['category', 'odds']].apply(best_category)\n",
    "\n",
    "result_25 = pd.DataFrame(list(result_25.values), \n",
    "                         index = result_25.index,\n",
    "                         columns = ['best_category', 'best_odds'])"
   ]
  },
  {
   "cell_type": "code",
   "execution_count": 196,
   "id": "87da5970",
   "metadata": {},
   "outputs": [
    {
     "data": {
      "text/html": [
       "<div>\n",
       "<style scoped>\n",
       "    .dataframe tbody tr th:only-of-type {\n",
       "        vertical-align: middle;\n",
       "    }\n",
       "\n",
       "    .dataframe tbody tr th {\n",
       "        vertical-align: top;\n",
       "    }\n",
       "\n",
       "    .dataframe thead th {\n",
       "        text-align: right;\n",
       "    }\n",
       "</style>\n",
       "<table border=\"1\" class=\"dataframe\">\n",
       "  <thead>\n",
       "    <tr style=\"text-align: right;\">\n",
       "      <th></th>\n",
       "      <th>best_category</th>\n",
       "      <th>best_odds</th>\n",
       "    </tr>\n",
       "    <tr>\n",
       "      <th>url</th>\n",
       "      <th></th>\n",
       "      <th></th>\n",
       "    </tr>\n",
       "  </thead>\n",
       "  <tbody>\n",
       "    <tr>\n",
       "      <th>http://0-101.net</th>\n",
       "      <td>G</td>\n",
       "      <td>1.330229e+00</td>\n",
       "    </tr>\n",
       "    <tr>\n",
       "      <th>http://000.cc</th>\n",
       "      <td>G</td>\n",
       "      <td>2.185412e+00</td>\n",
       "    </tr>\n",
       "    <tr>\n",
       "      <th>http://0000.jp</th>\n",
       "      <td>G</td>\n",
       "      <td>1.731138e+01</td>\n",
       "    </tr>\n",
       "    <tr>\n",
       "      <th>http://000relationships.com</th>\n",
       "      <td>G</td>\n",
       "      <td>2.739423e+01</td>\n",
       "    </tr>\n",
       "    <tr>\n",
       "      <th>http://000vitamins.com</th>\n",
       "      <td>G</td>\n",
       "      <td>5.024177e+00</td>\n",
       "    </tr>\n",
       "    <tr>\n",
       "      <th>...</th>\n",
       "      <td>...</td>\n",
       "      <td>...</td>\n",
       "    </tr>\n",
       "    <tr>\n",
       "      <th>http://zwinky.com</th>\n",
       "      <td>G</td>\n",
       "      <td>1.067895e+02</td>\n",
       "    </tr>\n",
       "    <tr>\n",
       "      <th>http://zylom.com</th>\n",
       "      <td>G</td>\n",
       "      <td>2.879092e+00</td>\n",
       "    </tr>\n",
       "    <tr>\n",
       "      <th>http://zynga.com</th>\n",
       "      <td>G</td>\n",
       "      <td>2.054419e+01</td>\n",
       "    </tr>\n",
       "    <tr>\n",
       "      <th>http://zz868.com</th>\n",
       "      <td>G</td>\n",
       "      <td>1.209566e+10</td>\n",
       "    </tr>\n",
       "    <tr>\n",
       "      <th>http://zzx.cc</th>\n",
       "      <td>G</td>\n",
       "      <td>1.000000e+00</td>\n",
       "    </tr>\n",
       "  </tbody>\n",
       "</table>\n",
       "<p>10707 rows × 2 columns</p>\n",
       "</div>"
      ],
      "text/plain": [
       "                            best_category     best_odds\n",
       "url                                                    \n",
       "http://0-101.net                        G  1.330229e+00\n",
       "http://000.cc                           G  2.185412e+00\n",
       "http://0000.jp                          G  1.731138e+01\n",
       "http://000relationships.com             G  2.739423e+01\n",
       "http://000vitamins.com                  G  5.024177e+00\n",
       "...                                   ...           ...\n",
       "http://zwinky.com                       G  1.067895e+02\n",
       "http://zylom.com                        G  2.879092e+00\n",
       "http://zynga.com                        G  2.054419e+01\n",
       "http://zz868.com                        G  1.209566e+10\n",
       "http://zzx.cc                           G  1.000000e+00\n",
       "\n",
       "[10707 rows x 2 columns]"
      ]
     },
     "execution_count": 196,
     "metadata": {},
     "output_type": "execute_result"
    }
   ],
   "source": [
    "result_25"
   ]
  },
  {
   "cell_type": "code",
   "execution_count": 197,
   "id": "ea145339",
   "metadata": {},
   "outputs": [],
   "source": [
    "combined_result = result_25.merge(result_75,\n",
    "                                 left_on='url',\n",
    "                                 right_on='url',\n",
    "                                 suffixes=['_25', '_75'])"
   ]
  },
  {
   "cell_type": "code",
   "execution_count": 198,
   "id": "428e43d7",
   "metadata": {},
   "outputs": [
    {
     "data": {
      "text/html": [
       "<div>\n",
       "<style scoped>\n",
       "    .dataframe tbody tr th:only-of-type {\n",
       "        vertical-align: middle;\n",
       "    }\n",
       "\n",
       "    .dataframe tbody tr th {\n",
       "        vertical-align: top;\n",
       "    }\n",
       "\n",
       "    .dataframe thead th {\n",
       "        text-align: right;\n",
       "    }\n",
       "</style>\n",
       "<table border=\"1\" class=\"dataframe\">\n",
       "  <thead>\n",
       "    <tr style=\"text-align: right;\">\n",
       "      <th></th>\n",
       "      <th>best_category_25</th>\n",
       "      <th>best_odds_25</th>\n",
       "      <th>best_category_75</th>\n",
       "      <th>best_odds_75</th>\n",
       "    </tr>\n",
       "    <tr>\n",
       "      <th>url</th>\n",
       "      <th></th>\n",
       "      <th></th>\n",
       "      <th></th>\n",
       "      <th></th>\n",
       "    </tr>\n",
       "  </thead>\n",
       "  <tbody>\n",
       "    <tr>\n",
       "      <th>http://0-101.net</th>\n",
       "      <td>G</td>\n",
       "      <td>1.330229e+00</td>\n",
       "      <td>G</td>\n",
       "      <td>1.330229</td>\n",
       "    </tr>\n",
       "    <tr>\n",
       "      <th>http://000.cc</th>\n",
       "      <td>G</td>\n",
       "      <td>2.185412e+00</td>\n",
       "      <td>G</td>\n",
       "      <td>1.330229</td>\n",
       "    </tr>\n",
       "    <tr>\n",
       "      <th>http://0000.jp</th>\n",
       "      <td>G</td>\n",
       "      <td>1.731138e+01</td>\n",
       "      <td>G</td>\n",
       "      <td>2.779429</td>\n",
       "    </tr>\n",
       "    <tr>\n",
       "      <th>http://000relationships.com</th>\n",
       "      <td>G</td>\n",
       "      <td>2.739423e+01</td>\n",
       "      <td>G</td>\n",
       "      <td>1.460583</td>\n",
       "    </tr>\n",
       "    <tr>\n",
       "      <th>http://000vitamins.com</th>\n",
       "      <td>G</td>\n",
       "      <td>5.024177e+00</td>\n",
       "      <td>G</td>\n",
       "      <td>2.710047</td>\n",
       "    </tr>\n",
       "    <tr>\n",
       "      <th>...</th>\n",
       "      <td>...</td>\n",
       "      <td>...</td>\n",
       "      <td>...</td>\n",
       "      <td>...</td>\n",
       "    </tr>\n",
       "    <tr>\n",
       "      <th>http://zwinky.com</th>\n",
       "      <td>G</td>\n",
       "      <td>1.067895e+02</td>\n",
       "      <td>G</td>\n",
       "      <td>2.710047</td>\n",
       "    </tr>\n",
       "    <tr>\n",
       "      <th>http://zylom.com</th>\n",
       "      <td>G</td>\n",
       "      <td>2.879092e+00</td>\n",
       "      <td>G</td>\n",
       "      <td>1.735526</td>\n",
       "    </tr>\n",
       "    <tr>\n",
       "      <th>http://zynga.com</th>\n",
       "      <td>G</td>\n",
       "      <td>2.054419e+01</td>\n",
       "      <td>G</td>\n",
       "      <td>2.652501</td>\n",
       "    </tr>\n",
       "    <tr>\n",
       "      <th>http://zz868.com</th>\n",
       "      <td>G</td>\n",
       "      <td>1.209566e+10</td>\n",
       "      <td>G</td>\n",
       "      <td>1.047852</td>\n",
       "    </tr>\n",
       "    <tr>\n",
       "      <th>http://zzx.cc</th>\n",
       "      <td>G</td>\n",
       "      <td>1.000000e+00</td>\n",
       "      <td>G</td>\n",
       "      <td>1.000000</td>\n",
       "    </tr>\n",
       "  </tbody>\n",
       "</table>\n",
       "<p>10707 rows × 4 columns</p>\n",
       "</div>"
      ],
      "text/plain": [
       "                            best_category_25  best_odds_25 best_category_75  \\\n",
       "url                                                                           \n",
       "http://0-101.net                           G  1.330229e+00                G   \n",
       "http://000.cc                              G  2.185412e+00                G   \n",
       "http://0000.jp                             G  1.731138e+01                G   \n",
       "http://000relationships.com                G  2.739423e+01                G   \n",
       "http://000vitamins.com                     G  5.024177e+00                G   \n",
       "...                                      ...           ...              ...   \n",
       "http://zwinky.com                          G  1.067895e+02                G   \n",
       "http://zylom.com                           G  2.879092e+00                G   \n",
       "http://zynga.com                           G  2.054419e+01                G   \n",
       "http://zz868.com                           G  1.209566e+10                G   \n",
       "http://zzx.cc                              G  1.000000e+00                G   \n",
       "\n",
       "                             best_odds_75  \n",
       "url                                        \n",
       "http://0-101.net                 1.330229  \n",
       "http://000.cc                    1.330229  \n",
       "http://0000.jp                   2.779429  \n",
       "http://000relationships.com      1.460583  \n",
       "http://000vitamins.com           2.710047  \n",
       "...                                   ...  \n",
       "http://zwinky.com                2.710047  \n",
       "http://zylom.com                 1.735526  \n",
       "http://zynga.com                 2.652501  \n",
       "http://zz868.com                 1.047852  \n",
       "http://zzx.cc                    1.000000  \n",
       "\n",
       "[10707 rows x 4 columns]"
      ]
     },
     "execution_count": 198,
     "metadata": {},
     "output_type": "execute_result"
    }
   ],
   "source": [
    "combined_result"
   ]
  },
  {
   "cell_type": "code",
   "execution_count": 200,
   "id": "569e188f",
   "metadata": {},
   "outputs": [
    {
     "data": {
      "text/html": [
       "<div>\n",
       "<style scoped>\n",
       "    .dataframe tbody tr th:only-of-type {\n",
       "        vertical-align: middle;\n",
       "    }\n",
       "\n",
       "    .dataframe tbody tr th {\n",
       "        vertical-align: top;\n",
       "    }\n",
       "\n",
       "    .dataframe thead th {\n",
       "        text-align: right;\n",
       "    }\n",
       "</style>\n",
       "<table border=\"1\" class=\"dataframe\">\n",
       "  <thead>\n",
       "    <tr style=\"text-align: right;\">\n",
       "      <th>best_category_75</th>\n",
       "      <th>G</th>\n",
       "      <th>P</th>\n",
       "      <th>R</th>\n",
       "      <th>X</th>\n",
       "    </tr>\n",
       "    <tr>\n",
       "      <th>best_category_25</th>\n",
       "      <th></th>\n",
       "      <th></th>\n",
       "      <th></th>\n",
       "      <th></th>\n",
       "    </tr>\n",
       "  </thead>\n",
       "  <tbody>\n",
       "    <tr>\n",
       "      <th>G</th>\n",
       "      <td>8478</td>\n",
       "      <td>363</td>\n",
       "      <td>55</td>\n",
       "      <td>70</td>\n",
       "    </tr>\n",
       "    <tr>\n",
       "      <th>P</th>\n",
       "      <td>107</td>\n",
       "      <td>611</td>\n",
       "      <td>18</td>\n",
       "      <td>7</td>\n",
       "    </tr>\n",
       "    <tr>\n",
       "      <th>R</th>\n",
       "      <td>22</td>\n",
       "      <td>20</td>\n",
       "      <td>197</td>\n",
       "      <td>27</td>\n",
       "    </tr>\n",
       "    <tr>\n",
       "      <th>X</th>\n",
       "      <td>32</td>\n",
       "      <td>5</td>\n",
       "      <td>18</td>\n",
       "      <td>677</td>\n",
       "    </tr>\n",
       "  </tbody>\n",
       "</table>\n",
       "</div>"
      ],
      "text/plain": [
       "best_category_75     G    P    R    X\n",
       "best_category_25                     \n",
       "G                 8478  363   55   70\n",
       "P                  107  611   18    7\n",
       "R                   22   20  197   27\n",
       "X                   32    5   18  677"
      ]
     },
     "execution_count": 200,
     "metadata": {},
     "output_type": "execute_result"
    }
   ],
   "source": [
    "pd.crosstab(index = combined_result['best_category_25'], columns = combined_result['best_category_75'])"
   ]
  }
 ],
 "metadata": {
  "kernelspec": {
   "display_name": "Python 3",
   "language": "python",
   "name": "python3"
  },
  "language_info": {
   "codemirror_mode": {
    "name": "ipython",
    "version": 3
   },
   "file_extension": ".py",
   "mimetype": "text/x-python",
   "name": "python",
   "nbconvert_exporter": "python",
   "pygments_lexer": "ipython3",
   "version": "3.8.8"
  },
  "varInspector": {
   "cols": {
    "lenName": 16,
    "lenType": 16,
    "lenVar": 40
   },
   "kernels_config": {
    "python": {
     "delete_cmd_postfix": "",
     "delete_cmd_prefix": "del ",
     "library": "var_list.py",
     "varRefreshCmd": "print(var_dic_list())"
    },
    "r": {
     "delete_cmd_postfix": ") ",
     "delete_cmd_prefix": "rm(",
     "library": "var_list.r",
     "varRefreshCmd": "cat(var_dic_list()) "
    }
   },
   "position": {
    "height": "144.667px",
    "left": "1335.33px",
    "right": "20px",
    "top": "119px",
    "width": "350px"
   },
   "types_to_exclude": [
    "module",
    "function",
    "builtin_function_or_method",
    "instance",
    "_Feature"
   ],
   "window_display": false
  }
 },
 "nbformat": 4,
 "nbformat_minor": 5
}
